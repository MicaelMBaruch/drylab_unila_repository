{
 "cells": [
  {
   "cell_type": "markdown",
   "metadata": {},
   "source": [
    "# This is the code notebook"
   ]
  },
  {
   "cell_type": "code",
   "execution_count": null,
   "metadata": {},
   "outputs": [],
   "source": [
    "#imports"
   ]
  },
  {
   "cell_type": "markdown",
   "metadata": {},
   "source": [
    "Defining the scenario variables "
   ]
  },
  {
   "cell_type": "code",
   "execution_count": 1,
   "metadata": {},
   "outputs": [],
   "source": [
    "algae_initial_concentration = 0 \n",
    "PET_initial_concentration = 0\n",
    "MHET_initial_concentration = 0\n",
    "process_duration_time = 0 #HRT"
   ]
  },
  {
   "cell_type": "markdown",
   "metadata": {},
   "source": [
    "Defining the equations"
   ]
  },
  {
   "cell_type": "code",
   "execution_count": null,
   "metadata": {},
   "outputs": [],
   "source": [
    "#microalgae concentration\n",
    "    #microalgae instant variation\n",
    "dxdt = algae_concentration * algae_specific_growth_rate \n",
    "\n",
    "\n",
    "#enzyme concentration\n",
    "    #team chlamylicious considered 0.01 microMol/s as the enzyme production coefficient. So the enzyme concentration is determined by:\n",
    "enzyme_concentration = algae_concentration * 0.01\n",
    "\n",
    "#PET concentration\n",
    "PET_V = PET_degradation_coefficient * (enzyme_concentration * PET_concentration/(km + PET_concentration))\n",
    "\n",
    "#MHET concentration\n",
    "MHET_V = MHET_degradation_coefficient * (enzyme_concentration * MHET_concentration/(km + MHET_concentration))"
   ]
  }
 ],
 "metadata": {
  "kernelspec": {
   "display_name": "base",
   "language": "python",
   "name": "python3"
  },
  "language_info": {
   "codemirror_mode": {
    "name": "ipython",
    "version": 3
   },
   "file_extension": ".py",
   "mimetype": "text/x-python",
   "name": "python",
   "nbconvert_exporter": "python",
   "pygments_lexer": "ipython3",
   "version": "3.11.4"
  },
  "orig_nbformat": 4
 },
 "nbformat": 4,
 "nbformat_minor": 2
}
